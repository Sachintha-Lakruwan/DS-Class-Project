{
 "cells": [
  {
   "cell_type": "code",
   "execution_count": null,
   "metadata": {
    "_cell_guid": "b1076dfc-b9ad-4769-8c92-a6c4dae69d19",
    "_uuid": "8f2839f25d086af736a60e9eeb907d3b93b6e0e5",
    "execution": {
     "iopub.execute_input": "2025-05-11T12:10:09.438540Z",
     "iopub.status.busy": "2025-05-11T12:10:09.438189Z",
     "iopub.status.idle": "2025-05-11T12:10:09.445779Z",
     "shell.execute_reply": "2025-05-11T12:10:09.444977Z",
     "shell.execute_reply.started": "2025-05-11T12:10:09.438517Z"
    },
    "trusted": true
   },
   "outputs": [],
   "source": [
    "import numpy as np\n",
    "import pandas as pd"
   ]
  },
  {
   "cell_type": "code",
   "execution_count": null,
   "metadata": {
    "execution": {
     "iopub.execute_input": "2025-05-11T12:10:09.488670Z",
     "iopub.status.busy": "2025-05-11T12:10:09.488366Z",
     "iopub.status.idle": "2025-05-11T12:10:09.509934Z",
     "shell.execute_reply": "2025-05-11T12:10:09.508871Z",
     "shell.execute_reply.started": "2025-05-11T12:10:09.488649Z"
    },
    "trusted": true
   },
   "outputs": [
    {
     "data": {
      "text/html": [
       "<div>\n",
       "<style scoped>\n",
       "    .dataframe tbody tr th:only-of-type {\n",
       "        vertical-align: middle;\n",
       "    }\n",
       "\n",
       "    .dataframe tbody tr th {\n",
       "        vertical-align: top;\n",
       "    }\n",
       "\n",
       "    .dataframe thead th {\n",
       "        text-align: right;\n",
       "    }\n",
       "</style>\n",
       "<table border=\"1\" class=\"dataframe\">\n",
       "  <thead>\n",
       "    <tr style=\"text-align: right;\">\n",
       "      <th></th>\n",
       "      <th>Unnamed: 0</th>\n",
       "      <th>Gender</th>\n",
       "      <th>Age</th>\n",
       "      <th>Highest level of education</th>\n",
       "      <th>Marital Status</th>\n",
       "      <th>Have used online shopping platforms before</th>\n",
       "      <th>Professional Background</th>\n",
       "      <th>General E-Commerce Platforms</th>\n",
       "      <th>Specialty Online Stores / automobile</th>\n",
       "      <th>Online pharmacies</th>\n",
       "      <th>...</th>\n",
       "      <th>Q50</th>\n",
       "      <th>Q51</th>\n",
       "      <th>Q52</th>\n",
       "      <th>Q53</th>\n",
       "      <th>Q54</th>\n",
       "      <th>Q56</th>\n",
       "      <th>Q57</th>\n",
       "      <th>Q58</th>\n",
       "      <th>Q59</th>\n",
       "      <th>Made online purchases</th>\n",
       "    </tr>\n",
       "  </thead>\n",
       "  <tbody>\n",
       "    <tr>\n",
       "      <th>0</th>\n",
       "      <td>0</td>\n",
       "      <td>Male</td>\n",
       "      <td>25 - 35</td>\n",
       "      <td>Bachelor's Degree</td>\n",
       "      <td>Single</td>\n",
       "      <td>Yes</td>\n",
       "      <td>Employed (full-time)</td>\n",
       "      <td>Daraz.Lk, Ikman.Lk</td>\n",
       "      <td>NaN</td>\n",
       "      <td>NaN</td>\n",
       "      <td>...</td>\n",
       "      <td>-1</td>\n",
       "      <td>0</td>\n",
       "      <td>0</td>\n",
       "      <td>0</td>\n",
       "      <td>0</td>\n",
       "      <td>0</td>\n",
       "      <td>0</td>\n",
       "      <td>-1</td>\n",
       "      <td>0</td>\n",
       "      <td>Yes</td>\n",
       "    </tr>\n",
       "    <tr>\n",
       "      <th>1</th>\n",
       "      <td>1</td>\n",
       "      <td>Male</td>\n",
       "      <td>25 - 35</td>\n",
       "      <td>Bachelor's Degree</td>\n",
       "      <td>Single</td>\n",
       "      <td>Yes</td>\n",
       "      <td>Employed (full-time)</td>\n",
       "      <td>Daraz.Lk, Ikman.Lk</td>\n",
       "      <td>Patpat.lk</td>\n",
       "      <td>Epharma.Lk, Onlinepharmacy.Lk</td>\n",
       "      <td>...</td>\n",
       "      <td>1</td>\n",
       "      <td>0</td>\n",
       "      <td>1</td>\n",
       "      <td>0</td>\n",
       "      <td>1</td>\n",
       "      <td>1</td>\n",
       "      <td>1</td>\n",
       "      <td>1</td>\n",
       "      <td>1</td>\n",
       "      <td>Yes</td>\n",
       "    </tr>\n",
       "    <tr>\n",
       "      <th>2</th>\n",
       "      <td>2</td>\n",
       "      <td>Female</td>\n",
       "      <td>25 - 35</td>\n",
       "      <td>Bachelor's Degree</td>\n",
       "      <td>Single</td>\n",
       "      <td>Yes</td>\n",
       "      <td>Employed (full-time)</td>\n",
       "      <td>Daraz.Lk, Ikman.Lk, Kapruka.Com</td>\n",
       "      <td>Patpat.lk, Riyasewana.lk</td>\n",
       "      <td>Healthguard.Lk, Onlinepharmacy.Lk</td>\n",
       "      <td>...</td>\n",
       "      <td>0</td>\n",
       "      <td>1</td>\n",
       "      <td>2</td>\n",
       "      <td>1</td>\n",
       "      <td>1</td>\n",
       "      <td>1</td>\n",
       "      <td>2</td>\n",
       "      <td>2</td>\n",
       "      <td>1</td>\n",
       "      <td>Yes</td>\n",
       "    </tr>\n",
       "    <tr>\n",
       "      <th>3</th>\n",
       "      <td>3</td>\n",
       "      <td>Female</td>\n",
       "      <td>25 - 35</td>\n",
       "      <td>Master's Degree or higher</td>\n",
       "      <td>Married</td>\n",
       "      <td>Yes</td>\n",
       "      <td>Employed (full-time)</td>\n",
       "      <td>Daraz.Lk, Ikman.Lk</td>\n",
       "      <td>LankaVehicle.com</td>\n",
       "      <td>Onlinepharmacy.Lk</td>\n",
       "      <td>...</td>\n",
       "      <td>1</td>\n",
       "      <td>0</td>\n",
       "      <td>1</td>\n",
       "      <td>0</td>\n",
       "      <td>1</td>\n",
       "      <td>1</td>\n",
       "      <td>1</td>\n",
       "      <td>1</td>\n",
       "      <td>1</td>\n",
       "      <td>Yes</td>\n",
       "    </tr>\n",
       "    <tr>\n",
       "      <th>4</th>\n",
       "      <td>4</td>\n",
       "      <td>Male</td>\n",
       "      <td>25 - 35</td>\n",
       "      <td>Bachelor's Degree</td>\n",
       "      <td>Married</td>\n",
       "      <td>Yes</td>\n",
       "      <td>Employed (full-time)</td>\n",
       "      <td>Daraz.Lk, Wow.Lk</td>\n",
       "      <td>Riyasewana.lk</td>\n",
       "      <td>Ceymed.Lk, Epharma.Lk</td>\n",
       "      <td>...</td>\n",
       "      <td>1</td>\n",
       "      <td>1</td>\n",
       "      <td>1</td>\n",
       "      <td>1</td>\n",
       "      <td>0</td>\n",
       "      <td>1</td>\n",
       "      <td>1</td>\n",
       "      <td>1</td>\n",
       "      <td>0</td>\n",
       "      <td>Yes</td>\n",
       "    </tr>\n",
       "    <tr>\n",
       "      <th>...</th>\n",
       "      <td>...</td>\n",
       "      <td>...</td>\n",
       "      <td>...</td>\n",
       "      <td>...</td>\n",
       "      <td>...</td>\n",
       "      <td>...</td>\n",
       "      <td>...</td>\n",
       "      <td>...</td>\n",
       "      <td>...</td>\n",
       "      <td>...</td>\n",
       "      <td>...</td>\n",
       "      <td>...</td>\n",
       "      <td>...</td>\n",
       "      <td>...</td>\n",
       "      <td>...</td>\n",
       "      <td>...</td>\n",
       "      <td>...</td>\n",
       "      <td>...</td>\n",
       "      <td>...</td>\n",
       "      <td>...</td>\n",
       "      <td>...</td>\n",
       "    </tr>\n",
       "    <tr>\n",
       "      <th>792</th>\n",
       "      <td>831</td>\n",
       "      <td>Male</td>\n",
       "      <td>25 - 35</td>\n",
       "      <td>Master's Degree or higher</td>\n",
       "      <td>Single</td>\n",
       "      <td>Yes</td>\n",
       "      <td>Employed (full-time)</td>\n",
       "      <td>Daraz.Lk, Ikman.Lk, Kapruka.Com, Takas.Lk</td>\n",
       "      <td>AutoLanka.com, PriceLanka.lk</td>\n",
       "      <td>NaN</td>\n",
       "      <td>...</td>\n",
       "      <td>0</td>\n",
       "      <td>1</td>\n",
       "      <td>1</td>\n",
       "      <td>-1</td>\n",
       "      <td>1</td>\n",
       "      <td>1</td>\n",
       "      <td>1</td>\n",
       "      <td>1</td>\n",
       "      <td>1</td>\n",
       "      <td>Yes</td>\n",
       "    </tr>\n",
       "    <tr>\n",
       "      <th>793</th>\n",
       "      <td>832</td>\n",
       "      <td>Male</td>\n",
       "      <td>25 - 35</td>\n",
       "      <td>Master's Degree or higher</td>\n",
       "      <td>Single</td>\n",
       "      <td>Yes</td>\n",
       "      <td>Employed (full-time)</td>\n",
       "      <td>Daraz.Lk, Ikman.Lk, Kapruka.Com, Takas.Lk</td>\n",
       "      <td>AutoLanka.com, PriceLanka.lk</td>\n",
       "      <td>NaN</td>\n",
       "      <td>...</td>\n",
       "      <td>0</td>\n",
       "      <td>1</td>\n",
       "      <td>-1</td>\n",
       "      <td>2</td>\n",
       "      <td>1</td>\n",
       "      <td>1</td>\n",
       "      <td>1</td>\n",
       "      <td>1</td>\n",
       "      <td>1</td>\n",
       "      <td>Yes</td>\n",
       "    </tr>\n",
       "    <tr>\n",
       "      <th>794</th>\n",
       "      <td>833</td>\n",
       "      <td>Male</td>\n",
       "      <td>25 - 35</td>\n",
       "      <td>Master's Degree or higher</td>\n",
       "      <td>Single</td>\n",
       "      <td>Yes</td>\n",
       "      <td>Employed (full-time)</td>\n",
       "      <td>Daraz.Lk, Ikman.Lk, Kapruka.Com, Takas.Lk</td>\n",
       "      <td>AutoLanka.com, PriceLanka.lk</td>\n",
       "      <td>NaN</td>\n",
       "      <td>...</td>\n",
       "      <td>0</td>\n",
       "      <td>1</td>\n",
       "      <td>-1</td>\n",
       "      <td>2</td>\n",
       "      <td>1</td>\n",
       "      <td>1</td>\n",
       "      <td>0</td>\n",
       "      <td>1</td>\n",
       "      <td>0</td>\n",
       "      <td>Yes</td>\n",
       "    </tr>\n",
       "    <tr>\n",
       "      <th>795</th>\n",
       "      <td>834</td>\n",
       "      <td>Male</td>\n",
       "      <td>25 - 35</td>\n",
       "      <td>Master's Degree or higher</td>\n",
       "      <td>Single</td>\n",
       "      <td>Yes</td>\n",
       "      <td>Employed (full-time)</td>\n",
       "      <td>Daraz.Lk, Ikman.Lk, Kapruka.Com, Takas.Lk</td>\n",
       "      <td>AutoLanka.com, PriceLanka.lk</td>\n",
       "      <td>NaN</td>\n",
       "      <td>...</td>\n",
       "      <td>0</td>\n",
       "      <td>1</td>\n",
       "      <td>-1</td>\n",
       "      <td>2</td>\n",
       "      <td>1</td>\n",
       "      <td>1</td>\n",
       "      <td>0</td>\n",
       "      <td>0</td>\n",
       "      <td>0</td>\n",
       "      <td>Yes</td>\n",
       "    </tr>\n",
       "    <tr>\n",
       "      <th>796</th>\n",
       "      <td>835</td>\n",
       "      <td>Male</td>\n",
       "      <td>25 - 35</td>\n",
       "      <td>Master's Degree or higher</td>\n",
       "      <td>Single</td>\n",
       "      <td>Yes</td>\n",
       "      <td>Employed (full-time)</td>\n",
       "      <td>Daraz.Lk, Ikman.Lk, Kapruka.Com, Takas.Lk</td>\n",
       "      <td>AutoLanka.com, PriceLanka.lk</td>\n",
       "      <td>NaN</td>\n",
       "      <td>...</td>\n",
       "      <td>0</td>\n",
       "      <td>1</td>\n",
       "      <td>-1</td>\n",
       "      <td>2</td>\n",
       "      <td>0</td>\n",
       "      <td>1</td>\n",
       "      <td>0</td>\n",
       "      <td>0</td>\n",
       "      <td>0</td>\n",
       "      <td>Yes</td>\n",
       "    </tr>\n",
       "  </tbody>\n",
       "</table>\n",
       "<p>797 rows × 59 columns</p>\n",
       "</div>"
      ],
      "text/plain": [
       "     Unnamed: 0  Gender      Age Highest level of education  Marital Status  \\\n",
       "0             0    Male  25 - 35           Bachelor's Degree         Single   \n",
       "1             1    Male  25 - 35           Bachelor's Degree         Single   \n",
       "2             2  Female  25 - 35           Bachelor's Degree         Single   \n",
       "3             3  Female  25 - 35   Master's Degree or higher        Married   \n",
       "4             4    Male  25 - 35           Bachelor's Degree        Married   \n",
       "..          ...     ...      ...                         ...            ...   \n",
       "792         831    Male  25 - 35   Master's Degree or higher         Single   \n",
       "793         832    Male  25 - 35   Master's Degree or higher         Single   \n",
       "794         833    Male  25 - 35   Master's Degree or higher         Single   \n",
       "795         834    Male  25 - 35   Master's Degree or higher         Single   \n",
       "796         835    Male  25 - 35   Master's Degree or higher         Single   \n",
       "\n",
       "    Have used online shopping platforms before  Professional Background  \\\n",
       "0                                           Yes    Employed (full-time)   \n",
       "1                                           Yes    Employed (full-time)   \n",
       "2                                           Yes    Employed (full-time)   \n",
       "3                                           Yes    Employed (full-time)   \n",
       "4                                           Yes    Employed (full-time)   \n",
       "..                                          ...                     ...   \n",
       "792                                         Yes    Employed (full-time)   \n",
       "793                                         Yes    Employed (full-time)   \n",
       "794                                         Yes    Employed (full-time)   \n",
       "795                                         Yes    Employed (full-time)   \n",
       "796                                         Yes    Employed (full-time)   \n",
       "\n",
       "                  General E-Commerce Platforms  \\\n",
       "0                           Daraz.Lk, Ikman.Lk   \n",
       "1                           Daraz.Lk, Ikman.Lk   \n",
       "2              Daraz.Lk, Ikman.Lk, Kapruka.Com   \n",
       "3                           Daraz.Lk, Ikman.Lk   \n",
       "4                             Daraz.Lk, Wow.Lk   \n",
       "..                                         ...   \n",
       "792  Daraz.Lk, Ikman.Lk, Kapruka.Com, Takas.Lk   \n",
       "793  Daraz.Lk, Ikman.Lk, Kapruka.Com, Takas.Lk   \n",
       "794  Daraz.Lk, Ikman.Lk, Kapruka.Com, Takas.Lk   \n",
       "795  Daraz.Lk, Ikman.Lk, Kapruka.Com, Takas.Lk   \n",
       "796  Daraz.Lk, Ikman.Lk, Kapruka.Com, Takas.Lk   \n",
       "\n",
       "    Specialty Online Stores / automobile                  Online pharmacies  \\\n",
       "0                                    NaN                                NaN   \n",
       "1                              Patpat.lk      Epharma.Lk, Onlinepharmacy.Lk   \n",
       "2               Patpat.lk, Riyasewana.lk  Healthguard.Lk, Onlinepharmacy.Lk   \n",
       "3                       LankaVehicle.com                  Onlinepharmacy.Lk   \n",
       "4                          Riyasewana.lk              Ceymed.Lk, Epharma.Lk   \n",
       "..                                   ...                                ...   \n",
       "792         AutoLanka.com, PriceLanka.lk                                NaN   \n",
       "793         AutoLanka.com, PriceLanka.lk                                NaN   \n",
       "794         AutoLanka.com, PriceLanka.lk                                NaN   \n",
       "795         AutoLanka.com, PriceLanka.lk                                NaN   \n",
       "796         AutoLanka.com, PriceLanka.lk                                NaN   \n",
       "\n",
       "     ... Q50 Q51  Q52  Q53  Q54  Q56  Q57  Q58  Q59  Made online purchases  \n",
       "0    ...  -1   0    0    0    0    0    0   -1    0                    Yes  \n",
       "1    ...   1   0    1    0    1    1    1    1    1                    Yes  \n",
       "2    ...   0   1    2    1    1    1    2    2    1                    Yes  \n",
       "3    ...   1   0    1    0    1    1    1    1    1                    Yes  \n",
       "4    ...   1   1    1    1    0    1    1    1    0                    Yes  \n",
       "..   ...  ..  ..  ...  ...  ...  ...  ...  ...  ...                    ...  \n",
       "792  ...   0   1    1   -1    1    1    1    1    1                    Yes  \n",
       "793  ...   0   1   -1    2    1    1    1    1    1                    Yes  \n",
       "794  ...   0   1   -1    2    1    1    0    1    0                    Yes  \n",
       "795  ...   0   1   -1    2    1    1    0    0    0                    Yes  \n",
       "796  ...   0   1   -1    2    0    1    0    0    0                    Yes  \n",
       "\n",
       "[797 rows x 59 columns]"
      ]
     },
     "execution_count": 29,
     "metadata": {},
     "output_type": "execute_result"
    }
   ],
   "source": [
    "df = pd.read_csv(\"cleaned_dataset.csv\")\n",
    "df"
   ]
  },
  {
   "cell_type": "markdown",
   "metadata": {},
   "source": [
    "# 1. Perceived ease of use has no impact on intention to purchase."
   ]
  },
  {
   "cell_type": "markdown",
   "metadata": {},
   "source": [
    "Null Hypothesis (H₀): In the population, there is no correlation between PEOU and Intention to Purchase .\n",
    "\n",
    "Alternative Hypothesis (H₁): In the population, there is a correlation "
   ]
  },
  {
   "cell_type": "code",
   "execution_count": 30,
   "metadata": {
    "execution": {
     "iopub.execute_input": "2025-05-11T12:10:09.512366Z",
     "iopub.status.busy": "2025-05-11T12:10:09.511300Z",
     "iopub.status.idle": "2025-05-11T12:10:09.533306Z",
     "shell.execute_reply": "2025-05-11T12:10:09.532342Z",
     "shell.execute_reply.started": "2025-05-11T12:10:09.512324Z"
    },
    "trusted": true
   },
   "outputs": [
    {
     "name": "stdout",
     "output_type": "stream",
     "text": [
      "   PEOU_score\n",
      "0         1.0\n",
      "1         0.6\n",
      "2         0.6\n",
      "3         0.0\n",
      "4         0.8\n"
     ]
    }
   ],
   "source": [
    "\n",
    "# Define columns related to the PEOU construct\n",
    "peou_items = ['Q13', 'Q14', 'Q15', 'Q16', 'Q17']\n",
    "\n",
    "# Option 1: Average score (recommended if Likert-scale items)\n",
    "df['PEOU_score'] = df[peou_items].mean(axis=1)\n",
    "\n",
    "# Option 2: Sum score (if you're doing summed scoring instead)\n",
    "# df['PEOU_score'] = df[peou_items].sum(axis=1)\n",
    "\n",
    "# View first few rows\n",
    "print(df[['PEOU_score']].head())\n",
    "\n",
    "# Optionally save the result\n"
   ]
  },
  {
   "cell_type": "markdown",
   "metadata": {},
   "source": [
    "#Q56 removed since it dicrease Cronbatch’salphacoefficientvalue"
   ]
  },
  {
   "cell_type": "code",
   "execution_count": 31,
   "metadata": {
    "execution": {
     "iopub.execute_input": "2025-05-11T12:10:09.536088Z",
     "iopub.status.busy": "2025-05-11T12:10:09.535273Z",
     "iopub.status.idle": "2025-05-11T12:10:09.558708Z",
     "shell.execute_reply": "2025-05-11T12:10:09.557429Z",
     "shell.execute_reply.started": "2025-05-11T12:10:09.536053Z"
    },
    "trusted": true
   },
   "outputs": [
    {
     "name": "stdout",
     "output_type": "stream",
     "text": [
      "   Intention_score\n",
      "0        -0.333333\n",
      "1         1.000000\n",
      "2         1.666667\n",
      "3         1.000000\n",
      "4         0.666667\n"
     ]
    }
   ],
   "source": [
    "# Define columns related to the PEOU construct\n",
    "Intention = ['Q57', 'Q58', 'Q59']\n",
    "\n",
    "# Option 1: Average score (recommended if Likert-scale items)\n",
    "df['Intention_score'] = df[Intention].mean(axis=1)\n",
    "\n",
    "# Option 2: Sum score (if you're doing summed scoring instead)\n",
    "# df['PEOU_score'] = df[peou_items].sum(axis=1)\n",
    "\n",
    "# View first few rows\n",
    "print(df[['Intention_score']].head())"
   ]
  },
  {
   "cell_type": "code",
   "execution_count": 32,
   "metadata": {
    "execution": {
     "iopub.execute_input": "2025-05-11T12:10:09.561056Z",
     "iopub.status.busy": "2025-05-11T12:10:09.560168Z",
     "iopub.status.idle": "2025-05-11T12:10:09.849997Z",
     "shell.execute_reply": "2025-05-11T12:10:09.848926Z",
     "shell.execute_reply.started": "2025-05-11T12:10:09.561027Z"
    },
    "trusted": true
   },
   "outputs": [
    {
     "name": "stderr",
     "output_type": "stream",
     "text": [
      "/usr/local/lib/python3.11/dist-packages/seaborn/_oldcore.py:1119: FutureWarning: use_inf_as_na option is deprecated and will be removed in a future version. Convert inf values to NaN before operating instead.\n",
      "  with pd.option_context('mode.use_inf_as_na', True):\n"
     ]
    },
    {
     "data": {
      "image/png": "[encoded data removed]",
      "text/plain": [
       "<Figure size 640x480 with 1 Axes>"
      ]
     },
     "metadata": {},
     "output_type": "display_data"
    }
   ],
   "source": [
    "import matplotlib.pyplot as plt\n",
    "import seaborn as sns\n",
    "\n",
    "# Example data: PEOU (Perceived Ease of Use)\n",
    "sns.histplot(df['PEOU_score'], kde=True)  # kde=True adds the Kernel Density Estimation curve\n",
    "plt.title(\"Histogram with Normal Distribution Curve\")\n",
    "plt.show()\n"
   ]
  },
  {
   "cell_type": "markdown",
   "metadata": {},
   "source": [
    "PEOU_score has nearly normal distribution"
   ]
  },
  {
   "cell_type": "code",
   "execution_count": 33,
   "metadata": {
    "execution": {
     "iopub.execute_input": "2025-05-11T12:10:09.851410Z",
     "iopub.status.busy": "2025-05-11T12:10:09.851127Z",
     "iopub.status.idle": "2025-05-11T12:10:10.223989Z",
     "shell.execute_reply": "2025-05-11T12:10:10.222946Z",
     "shell.execute_reply.started": "2025-05-11T12:10:09.851382Z"
    },
    "trusted": true
   },
   "outputs": [
    {
     "name": "stderr",
     "output_type": "stream",
     "text": [
      "/usr/local/lib/python3.11/dist-packages/seaborn/_oldcore.py:1119: FutureWarning: use_inf_as_na option is deprecated and will be removed in a future version. Convert inf values to NaN before operating instead.\n",
      "  with pd.option_context('mode.use_inf_as_na', True):\n"
     ]
    },
    {
     "data": {
      "image/png": "[encoded data removed]",
      "text/plain": [
       "<Figure size 640x480 with 1 Axes>"
      ]
     },
     "metadata": {},
     "output_type": "display_data"
    }
   ],
   "source": [
    "import matplotlib.pyplot as plt\n",
    "import seaborn as sns\n",
    "\n",
    "# Example data: PEOU (Perceived Ease of Use)\n",
    "sns.histplot(df['Intention_score'], kde=True)  # kde=True adds the Kernel Density Estimation curve\n",
    "plt.title(\"Histogram with Normal Distribution Curve\")\n",
    "plt.show()"
   ]
  },
  {
   "cell_type": "markdown",
   "metadata": {},
   "source": [
    "Pearson’s correlation assumes both variables are normally distributed. Since Intention is not, Spearman’s rank correlation is safer"
   ]
  },
  {
   "cell_type": "code",
   "execution_count": 34,
   "metadata": {
    "execution": {
     "iopub.execute_input": "2025-05-11T12:10:10.226692Z",
     "iopub.status.busy": "2025-05-11T12:10:10.226352Z",
     "iopub.status.idle": "2025-05-11T12:10:10.479639Z",
     "shell.execute_reply": "2025-05-11T12:10:10.478589Z",
     "shell.execute_reply.started": "2025-05-11T12:10:10.226665Z"
    },
    "trusted": true
   },
   "outputs": [
    {
     "data": {
      "image/png": "[encoded data removed]",
      "text/plain": [
       "<Figure size 640x480 with 1 Axes>"
      ]
     },
     "metadata": {},
     "output_type": "display_data"
    }
   ],
   "source": [
    "import matplotlib.pyplot as plt\n",
    "\n",
    "# Example: Plotting PEOU vs. Intention to Purchase\n",
    "plt.scatter(df['PEOU_score'], df['Intention_score'])\n",
    "plt.title(\"Scatter Plot: PEOU vs. Intention to Purchase\")\n",
    "plt.xlabel(\"PEOU\")\n",
    "plt.ylabel(\"Intention to Purchase\")\n",
    "plt.show()\n"
   ]
  },
  {
   "cell_type": "markdown",
   "metadata": {},
   "source": [
    "based on scatter plot, it looks like there's no clear linear relationship between PEOU and Intention, reinforcing the decision to use Spearman's rank correlation."
   ]
  },
  {
   "cell_type": "code",
   "execution_count": 35,
   "metadata": {
    "execution": {
     "iopub.execute_input": "2025-05-11T12:10:10.481096Z",
     "iopub.status.busy": "2025-05-11T12:10:10.480736Z",
     "iopub.status.idle": "2025-05-11T12:10:10.491735Z",
     "shell.execute_reply": "2025-05-11T12:10:10.490001Z",
     "shell.execute_reply.started": "2025-05-11T12:10:10.481068Z"
    },
    "trusted": true
   },
   "outputs": [
    {
     "name": "stdout",
     "output_type": "stream",
     "text": [
      "Spearman correlation: 0.219, p-value: 0.000\n"
     ]
    }
   ],
   "source": [
    "from scipy.stats import spearmanr\n",
    "\n",
    "# Assuming df['PEOU_score'] and df['Intention_score'] exist\n",
    "corr, p_value = spearmanr(df['PEOU_score'], df['Intention_score'])\n",
    "print(f\"Spearman correlation: {corr:.3f}, p-value: {p_value:.3f}\")\n"
   ]
  },
  {
   "cell_type": "markdown",
   "metadata": {},
   "source": [
    "Since the low P value, we can confidently say that there exists a significant (but weak) relation between perceived ease of use and intention to purchase.\n",
    "\n",
    "**We can reject the Null hypothesis**"
   ]
  },
  {
   "cell_type": "markdown",
   "metadata": {},
   "source": []
  }
 ],
 "metadata": {
  "kaggle": {
   "accelerator": "none",
   "dataSources": [
    {
     "datasetId": 7388779,
     "sourceId": 11769308,
     "sourceType": "datasetVersion"
    }
   ],
   "dockerImageVersionId": 31012,
   "isGpuEnabled": false,
   "isInternetEnabled": true,
   "language": "python",
   "sourceType": "notebook"
  },
  "kernelspec": {
   "display_name": "Python 3",
   "language": "python",
   "name": "python3"
  },
  "language_info": {
   "codemirror_mode": {
    "name": "ipython",
    "version": 3
   },
   "file_extension": ".py",
   "mimetype": "text/x-python",
   "name": "python",
   "nbconvert_exporter": "python",
   "pygments_lexer": "ipython3",
   "version": "3.11.11"
  }
 },
 "nbformat": 4,
 "nbformat_minor": 4
}
