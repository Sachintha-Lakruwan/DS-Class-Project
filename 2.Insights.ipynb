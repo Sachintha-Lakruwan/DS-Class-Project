{
 "cells": [
  {
   "cell_type": "code",
   "execution_count": 1,
   "id": "ce5d4e64",
   "metadata": {},
   "outputs": [],
   "source": [
    "import numpy as np\n",
    "import pandas as pd\n",
    "import matplotlib.pyplot as plt\n",
    "%matplotlib inline\n",
    "import seaborn as sns\n",
    "sns.set(style='darkgrid', font_scale=1.4)\n",
    "import warnings\n",
    "warnings.filterwarnings('ignore')"
   ]
  },
  {
   "cell_type": "code",
   "execution_count": 2,
   "id": "dbd302e9",
   "metadata": {},
   "outputs": [],
   "source": [
    "df = pd.read_csv('cleaned_dataset.csv')"
   ]
  },
  {
   "cell_type": "markdown",
   "id": "b25d593d",
   "metadata": {},
   "source": [
    "# Insights"
   ]
  },
  {
   "cell_type": "code",
   "execution_count": 30,
   "id": "8ef334e7",
   "metadata": {},
   "outputs": [],
   "source": [
    "related_questions_lists = {\n",
    "    \"Perceived Ease of Use\": [\"Q13\", \"Q14\", \"Q15\", \"Q16\", \"Q17\", \"Q18\", \"Q19\", \"Q20\", \"Q21\", \"Q22\"],\n",
    "    \"Perceived Usefulness\": [\"Q23\", \"Q24\", \"Q25\", \"Q26\", \"Q27\", \"Q28\", \"Q29\", \"Q30\", \"Q31\", \"Q32\"],\n",
    "    \"Structural Assurance\": [\"Q33\", \"Q34\", \"Q35\", \"Q36\", \"Q37\", \"Q38\"],\n",
    "    \"Social Influence (SI)\": [\"Q39\", \"Q40\", \"Q41\", \"Q42\", \"Q43\", \"Q44\", \"Q45\", \"Q46\", \"Q47\", \"Q48\", \"Q49\", \"Q50\"],\n",
    "    \"Intention to Purchase Online\": [\"Q56\", \"Q57\", \"Q58\", \"Q59\"]\n",
    "}"
   ]
  },
  {
   "cell_type": "code",
   "execution_count": 31,
   "id": "462c25c2",
   "metadata": {},
   "outputs": [],
   "source": [
    "related_question_pairs = {\n",
    "    \"Ease of Navigation\": [\"Q13\", \"Q14\"],\n",
    "    \"Learn Curve\": [\"Q15\", \"Q16\"],\n",
    "    \"Clarity of Instructions\": [\"Q17\", \"Q18\"],\n",
    "    \"Response Time\": [\"Q19\", \"Q20\"],\n",
    "    \"Error Handling\": [\"Q21\", \"Q22\"],\n",
    "    \"Product Availability\": [\"Q23\", \"Q24\"],\n",
    "    \"Convenience\": [\"Q25\", \"Q26\"],\n",
    "    \"Cost-effectiveness\": [\"Q27\", \"Q28\"],\n",
    "    \"Information Accessibility\": [\"Q29\", \"Q30\"],\n",
    "    \"Personalization\": [\"Q31\", \"Q32\"],\n",
    "    \"Privacy Protection\": [\"Q33\", \"Q34\"],\n",
    "    \"Payment Security\": [\"Q35\", \"Q36\"],\n",
    "    \"Transparent Policies\": [\"Q37\", \"Q38\"],\n",
    "    \"Word of Mouth and Recommendations\": [\"Q39\", \"Q40\"],\n",
    "    \"Social Media Posts/ Influence\": [\"Q41\", \"Q42\"],\n",
    "    \"Online Reviews and Ratings\": [\"Q43\", \"Q44\"],\n",
    "    \"Social Proof\": [\"Q45\", \"Q46\"],\n",
    "    \"Normative Pressure\": [\"Q47\", \"Q48\"],\n",
    "    \"Information Sharing\": [\"Q49\", \"Q50\"],\n",
    "    \"Attitude\": [\"Q51\", \"Q52\"],\n",
    "    \"Perceived Risk\": [\"Q53\", \"Q54\"],\n",
    "}"
   ]
  },
  {
   "cell_type": "markdown",
   "id": "1e625702",
   "metadata": {},
   "source": [
    "Cronbatch’s alpha coefficient value"
   ]
  },
  {
   "cell_type": "code",
   "execution_count": 32,
   "id": "b1c681a1",
   "metadata": {},
   "outputs": [
    {
     "data": {
      "text/html": [
       "<div>\n",
       "<style scoped>\n",
       "    .dataframe tbody tr th:only-of-type {\n",
       "        vertical-align: middle;\n",
       "    }\n",
       "\n",
       "    .dataframe tbody tr th {\n",
       "        vertical-align: top;\n",
       "    }\n",
       "\n",
       "    .dataframe thead th {\n",
       "        text-align: right;\n",
       "    }\n",
       "</style>\n",
       "<table border=\"1\" class=\"dataframe\">\n",
       "  <thead>\n",
       "    <tr style=\"text-align: right;\">\n",
       "      <th></th>\n",
       "      <th>variable</th>\n",
       "      <th>c_alpha</th>\n",
       "    </tr>\n",
       "  </thead>\n",
       "  <tbody>\n",
       "    <tr>\n",
       "      <th>0</th>\n",
       "      <td>Perceived Ease of Use</td>\n",
       "      <td>0.8947</td>\n",
       "    </tr>\n",
       "    <tr>\n",
       "      <th>1</th>\n",
       "      <td>Perceived Usefulness</td>\n",
       "      <td>0.8974</td>\n",
       "    </tr>\n",
       "    <tr>\n",
       "      <th>2</th>\n",
       "      <td>Structural Assurance</td>\n",
       "      <td>0.8993</td>\n",
       "    </tr>\n",
       "    <tr>\n",
       "      <th>3</th>\n",
       "      <td>Social Influence (SI)</td>\n",
       "      <td>0.9084</td>\n",
       "    </tr>\n",
       "    <tr>\n",
       "      <th>4</th>\n",
       "      <td>Intention to Purchase Online</td>\n",
       "      <td>0.6249</td>\n",
       "    </tr>\n",
       "  </tbody>\n",
       "</table>\n",
       "</div>"
      ],
      "text/plain": [
       "                       variable  c_alpha\n",
       "0         Perceived Ease of Use   0.8947\n",
       "1          Perceived Usefulness   0.8974\n",
       "2          Structural Assurance   0.8993\n",
       "3         Social Influence (SI)   0.9084\n",
       "4  Intention to Purchase Online   0.6249"
      ]
     },
     "execution_count": 32,
     "metadata": {},
     "output_type": "execute_result"
    }
   ],
   "source": [
    "import pingouin as pg\n",
    "\n",
    "alpha_values = {}\n",
    "\n",
    "for index, val in enumerate(related_questions_lists):\n",
    "    temp = df.loc[:, related_questions_lists[val]]\n",
    "    alpha = pg.cronbach_alpha(data=temp)\n",
    "    alpha_values[val] = float(round(alpha[0], 4))\n",
    "\n",
    "ca_df = pd.DataFrame(pd.Series(alpha_values))\n",
    "ca_df.reset_index(inplace=True)\n",
    "ca_df.columns = ['variable', 'c_alpha']\n",
    "ca_df"
   ]
  },
  {
   "cell_type": "markdown",
   "id": "ef5ac34f",
   "metadata": {},
   "source": [
    "### Rule of Thumb for Cronbach's Alpha\n",
    "\n",
    "| Alpha (α) Value | Interpretation                                         |\n",
    "|------------------|-------------------------------------------------------|\n",
    "| ≥ 0.9            | Excellent (might be too high; may suggest redundancy) |\n",
    "| 0.8 – 0.9        | Good                                                  |\n",
    "| 0.7 – 0.8        | Acceptable                                            |\n",
    "| 0.6 – 0.7        | Questionable                                          |\n",
    "| 0.5 – 0.6        | Poor                                                  |\n",
    "| < 0.5            | Unacceptable                                          |\n"
   ]
  },
  {
   "cell_type": "code",
   "execution_count": 41,
   "id": "9280b3ce",
   "metadata": {},
   "outputs": [
    {
     "data": {
      "text/plain": [
       "<bound method Figure.tight_layout of <Figure size 1000x200 with 1 Axes>>"
      ]
     },
     "execution_count": 41,
     "metadata": {},
     "output_type": "execute_result"
    },
    {
     "data": {
      "image/png": "[encoded data removed]",
      "text/plain": [
       "<Figure size 1000x200 with 1 Axes>"
      ]
     },
     "metadata": {},
     "output_type": "display_data"
    }
   ],
   "source": [
    "fig = plt.figure(figsize=(10,2))\n",
    "sns.set_context(\"paper\", font_scale=0.9)\n",
    "sns.barplot(x='c_alpha', y='variable', data=ca_df)\n",
    "plt.axvline(x=0.7, color='green', linestyle='--', linewidth=1)\n",
    "plt.axvline(x=0.6, color='orange', linestyle='--', linewidth=1)\n",
    "plt.axvline(x=0.5, color='red', linestyle='--', linewidth=1)\n",
    "fig.tight_layout\n"
   ]
  },
  {
   "cell_type": "code",
   "execution_count": 43,
   "id": "76305f96",
   "metadata": {},
   "outputs": [],
   "source": [
    "def cronbach_alpha_if_item_deleted(variable):\n",
    "    questions = related_questions_lists[variable]\n",
    "    logs_df = pd.DataFrame({\"Deleted Question\": questions, \"c_alpha\": [0 for i in range(len(questions))]})\n",
    "\n",
    "    for i in range(0, len(questions)):\n",
    "        remaining_q = [x for x in questions if questions.index(x) != i]\n",
    "        temp = df.loc[:, remaining_q]\n",
    "        alpha = pg.cronbach_alpha(data=temp)\n",
    "        logs_df.iloc[i, 1] = float(round(alpha[0], 4))\n",
    "    \n",
    "    return logs_df"
   ]
  },
  {
   "cell_type": "code",
   "execution_count": 50,
   "id": "b1abe5bc",
   "metadata": {},
   "outputs": [
    {
     "data": {
      "text/plain": [
       "<matplotlib.lines.Line2D at 0x118a64430>"
      ]
     },
     "execution_count": 50,
     "metadata": {},
     "output_type": "execute_result"
    },
    {
     "data": {
      "image/png": "[encoded data removed]",
      "text/plain": [
       "<Figure size 1000x200 with 1 Axes>"
      ]
     },
     "metadata": {},
     "output_type": "display_data"
    }
   ],
   "source": [
    "plt.figure(figsize=(10,2))\n",
    "\n",
    "temp_ca = cronbach_alpha_if_item_deleted('Intention to Purchase Online')\n",
    "\n",
    "sns.barplot(x='c_alpha', y='Deleted Question', data=temp_ca)\n",
    "plt.axvline(x=0.7, color='green', linestyle='--', linewidth=1)\n",
    "plt.axvline(x=0.6, color='orange', linestyle='--', linewidth=1)\n",
    "plt.axvline(x=0.5, color='red', linestyle='--', linewidth=1)"
   ]
  },
  {
   "cell_type": "code",
   "execution_count": 51,
   "id": "163a14c2",
   "metadata": {},
   "outputs": [],
   "source": [
    "# revised questions\n",
    "\n",
    "related_questions_lists = {\n",
    "    \"Perceived Ease of Use\": [\"Q13\", \"Q14\", \"Q15\", \"Q16\", \"Q17\", \"Q18\", \"Q19\", \"Q20\", \"Q21\", \"Q22\"],\n",
    "    \"Perceived Usefulness\": [\"Q23\", \"Q24\", \"Q25\", \"Q26\", \"Q27\", \"Q28\", \"Q29\", \"Q30\", \"Q31\", \"Q32\"],\n",
    "    \"Structural Assurance\": [\"Q33\", \"Q34\", \"Q35\", \"Q36\", \"Q37\", \"Q38\"],\n",
    "    \"Social Influence (SI)\": [\"Q39\", \"Q40\", \"Q41\", \"Q42\", \"Q43\", \"Q44\", \"Q45\", \"Q46\", \"Q47\", \"Q48\", \"Q49\", \"Q50\"],\n",
    "    \"Intention to Purchase Online\": [\"Q57\", \"Q58\", \"Q59\"] # removed Q56\n",
    "}"
   ]
  },
  {
   "cell_type": "markdown",
   "id": "9ec157f8",
   "metadata": {},
   "source": [
    "Inter-item correlation"
   ]
  },
  {
   "cell_type": "code",
   "execution_count": 64,
   "id": "46f4041e",
   "metadata": {},
   "outputs": [
    {
     "data": {
      "text/html": [
       "<div>\n",
       "<style scoped>\n",
       "    .dataframe tbody tr th:only-of-type {\n",
       "        vertical-align: middle;\n",
       "    }\n",
       "\n",
       "    .dataframe tbody tr th {\n",
       "        vertical-align: top;\n",
       "    }\n",
       "\n",
       "    .dataframe thead th {\n",
       "        text-align: right;\n",
       "    }\n",
       "</style>\n",
       "<table border=\"1\" class=\"dataframe\">\n",
       "  <thead>\n",
       "    <tr style=\"text-align: right;\">\n",
       "      <th></th>\n",
       "      <th>variable</th>\n",
       "      <th>correlation</th>\n",
       "    </tr>\n",
       "  </thead>\n",
       "  <tbody>\n",
       "    <tr>\n",
       "      <th>0</th>\n",
       "      <td>Ease of Navigation</td>\n",
       "      <td>0.79</td>\n",
       "    </tr>\n",
       "    <tr>\n",
       "      <th>1</th>\n",
       "      <td>Learn Curve</td>\n",
       "      <td>0.70</td>\n",
       "    </tr>\n",
       "    <tr>\n",
       "      <th>2</th>\n",
       "      <td>Clarity of Instructions</td>\n",
       "      <td>0.74</td>\n",
       "    </tr>\n",
       "    <tr>\n",
       "      <th>3</th>\n",
       "      <td>Response Time</td>\n",
       "      <td>0.55</td>\n",
       "    </tr>\n",
       "    <tr>\n",
       "      <th>4</th>\n",
       "      <td>Error Handling</td>\n",
       "      <td>0.55</td>\n",
       "    </tr>\n",
       "    <tr>\n",
       "      <th>5</th>\n",
       "      <td>Product Availability</td>\n",
       "      <td>0.68</td>\n",
       "    </tr>\n",
       "    <tr>\n",
       "      <th>6</th>\n",
       "      <td>Convenience</td>\n",
       "      <td>0.62</td>\n",
       "    </tr>\n",
       "    <tr>\n",
       "      <th>7</th>\n",
       "      <td>Cost-effectiveness</td>\n",
       "      <td>0.50</td>\n",
       "    </tr>\n",
       "    <tr>\n",
       "      <th>8</th>\n",
       "      <td>Information Accessibility</td>\n",
       "      <td>0.44</td>\n",
       "    </tr>\n",
       "    <tr>\n",
       "      <th>9</th>\n",
       "      <td>Personalization</td>\n",
       "      <td>0.63</td>\n",
       "    </tr>\n",
       "    <tr>\n",
       "      <th>10</th>\n",
       "      <td>Privacy Protection</td>\n",
       "      <td>0.65</td>\n",
       "    </tr>\n",
       "    <tr>\n",
       "      <th>11</th>\n",
       "      <td>Payment Security</td>\n",
       "      <td>0.77</td>\n",
       "    </tr>\n",
       "    <tr>\n",
       "      <th>12</th>\n",
       "      <td>Transparent Policies</td>\n",
       "      <td>0.69</td>\n",
       "    </tr>\n",
       "    <tr>\n",
       "      <th>13</th>\n",
       "      <td>Word of Mouth and Recommendations</td>\n",
       "      <td>0.63</td>\n",
       "    </tr>\n",
       "    <tr>\n",
       "      <th>14</th>\n",
       "      <td>Social Media Posts/ Influence</td>\n",
       "      <td>0.77</td>\n",
       "    </tr>\n",
       "    <tr>\n",
       "      <th>15</th>\n",
       "      <td>Online Reviews and Ratings</td>\n",
       "      <td>0.72</td>\n",
       "    </tr>\n",
       "    <tr>\n",
       "      <th>16</th>\n",
       "      <td>Social Proof</td>\n",
       "      <td>0.72</td>\n",
       "    </tr>\n",
       "    <tr>\n",
       "      <th>17</th>\n",
       "      <td>Normative Pressure</td>\n",
       "      <td>0.54</td>\n",
       "    </tr>\n",
       "    <tr>\n",
       "      <th>18</th>\n",
       "      <td>Information Sharing</td>\n",
       "      <td>0.69</td>\n",
       "    </tr>\n",
       "    <tr>\n",
       "      <th>19</th>\n",
       "      <td>Attitude</td>\n",
       "      <td>0.34</td>\n",
       "    </tr>\n",
       "    <tr>\n",
       "      <th>20</th>\n",
       "      <td>Perceived Risk</td>\n",
       "      <td>0.30</td>\n",
       "    </tr>\n",
       "  </tbody>\n",
       "</table>\n",
       "</div>"
      ],
      "text/plain": [
       "                             variable  correlation\n",
       "0                  Ease of Navigation         0.79\n",
       "1                         Learn Curve         0.70\n",
       "2             Clarity of Instructions         0.74\n",
       "3                       Response Time         0.55\n",
       "4                      Error Handling         0.55\n",
       "5                Product Availability         0.68\n",
       "6                         Convenience         0.62\n",
       "7                  Cost-effectiveness         0.50\n",
       "8           Information Accessibility         0.44\n",
       "9                     Personalization         0.63\n",
       "10                 Privacy Protection         0.65\n",
       "11                   Payment Security         0.77\n",
       "12               Transparent Policies         0.69\n",
       "13  Word of Mouth and Recommendations         0.63\n",
       "14      Social Media Posts/ Influence         0.77\n",
       "15         Online Reviews and Ratings         0.72\n",
       "16                       Social Proof         0.72\n",
       "17                 Normative Pressure         0.54\n",
       "18                Information Sharing         0.69\n",
       "19                           Attitude         0.34\n",
       "20                     Perceived Risk         0.30"
      ]
     },
     "execution_count": 64,
     "metadata": {},
     "output_type": "execute_result"
    }
   ],
   "source": [
    "inter_item_corr = {}\n",
    "\n",
    "for index, key in enumerate(related_question_pairs):\n",
    "    temp = df[related_question_pairs[key]]\n",
    "    inter_item_corr[key] = round(temp.corr().iloc[0, 1], 2)\n",
    "\n",
    "iic_df = pd.DataFrame(pd.Series(inter_item_corr))\n",
    "iic_df.reset_index(inplace=True)\n",
    "iic_df.columns = ['variable', 'correlation']\n",
    "\n",
    "iic_df"
   ]
  },
  {
   "cell_type": "markdown",
   "id": "92e2b96e",
   "metadata": {},
   "source": [
    "### Rule of Thumb for Inter-Item Correlation\n",
    "\n",
    "| Correlation Value | Meaning                            |\n",
    "|-------------------|-------------------------------------|\n",
    "| > 0.80            | Too high – items may be redundant   |\n",
    "| 0.50 – 0.80       | Strong – items are closely related  |\n",
    "| 0.30 – 0.50       | Moderate – usually acceptable       |\n",
    "| 0.15 – 0.30       | Weak – might need review            |\n",
    "| < 0.15            | Very weak – items may not match     |\n"
   ]
  },
  {
   "cell_type": "code",
   "execution_count": 66,
   "id": "8beeb0dc",
   "metadata": {},
   "outputs": [
    {
     "data": {
      "text/plain": [
       "<bound method Figure.tight_layout of <Figure size 1000x600 with 1 Axes>>"
      ]
     },
     "execution_count": 66,
     "metadata": {},
     "output_type": "execute_result"
    },
    {
     "data": {
      "image/png": "[encoded data removed]",
      "text/plain": [
       "<Figure size 1000x600 with 1 Axes>"
      ]
     },
     "metadata": {},
     "output_type": "display_data"
    }
   ],
   "source": [
    "fig = plt.figure(figsize=(10,6))\n",
    "sns.set_context(\"paper\", font_scale=0.9)\n",
    "sns.barplot(x='correlation', y='variable', data=iic_df)\n",
    "plt.axvline(x=0.3, color='red', linestyle='--', linewidth=1)\n",
    "plt.axvline(x=0.8, color='red', linestyle='--', linewidth=1)\n",
    "fig.tight_layout"
   ]
  },
  {
   "cell_type": "markdown",
   "id": "bda91522",
   "metadata": {},
   "source": [
    "All values are acceptable"
   ]
  }
 ],
 "metadata": {
  "kernelspec": {
   "display_name": "myenv",
   "language": "python",
   "name": "python3"
  },
  "language_info": {
   "codemirror_mode": {
    "name": "ipython",
    "version": 3
   },
   "file_extension": ".py",
   "mimetype": "text/x-python",
   "name": "python",
   "nbconvert_exporter": "python",
   "pygments_lexer": "ipython3",
   "version": "3.10.16"
  }
 },
 "nbformat": 4,
 "nbformat_minor": 5
}
