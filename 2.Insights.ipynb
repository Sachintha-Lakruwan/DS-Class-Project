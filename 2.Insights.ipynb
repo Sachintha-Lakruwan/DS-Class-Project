{
 "cells": [
  {
   "cell_type": "code",
   "execution_count": 1,
   "id": "ce5d4e64",
   "metadata": {},
   "outputs": [],
   "source": [
    "import numpy as np\n",
    "import pandas as pd\n",
    "import matplotlib.pyplot as plt\n",
    "%matplotlib inline\n",
    "import seaborn as sns\n",
    "sns.set(style='darkgrid', font_scale=1.4)\n",
    "import warnings\n",
    "warnings.filterwarnings('ignore')"
   ]
  },
  {
   "cell_type": "code",
   "execution_count": 2,
   "id": "dbd302e9",
   "metadata": {},
   "outputs": [],
   "source": [
    "df = pd.read_csv('cleaned_dataset.csv')"
   ]
  },
  {
   "cell_type": "markdown",
   "id": "b25d593d",
   "metadata": {},
   "source": [
    "# Insights"
   ]
  },
  {
   "cell_type": "code",
   "execution_count": 30,
   "id": "8ef334e7",
   "metadata": {},
   "outputs": [],
   "source": [
    "related_questions_lists = {\n",
    "    \"Perceived Ease of Use\": [\"Q13\", \"Q14\", \"Q15\", \"Q16\", \"Q17\", \"Q18\", \"Q19\", \"Q20\", \"Q21\", \"Q22\"],\n",
    "    \"Perceived Usefulness\": [\"Q23\", \"Q24\", \"Q25\", \"Q26\", \"Q27\", \"Q28\", \"Q29\", \"Q30\", \"Q31\", \"Q32\"],\n",
    "    \"Structural Assurance\": [\"Q33\", \"Q34\", \"Q35\", \"Q36\", \"Q37\", \"Q38\"],\n",
    "    \"Social Influence (SI)\": [\"Q39\", \"Q40\", \"Q41\", \"Q42\", \"Q43\", \"Q44\", \"Q45\", \"Q46\", \"Q47\", \"Q48\", \"Q49\", \"Q50\"],\n",
    "    \"Intention to Purchase Online\": [\"Q56\", \"Q57\", \"Q58\", \"Q59\"]\n",
    "}"
   ]
  },
  {
   "cell_type": "code",
   "execution_count": 31,
   "id": "462c25c2",
   "metadata": {},
   "outputs": [],
   "source": [
    "related_question_pairs = {\n",
    "    \"Ease of Navigation\": [\"Q13\", \"Q14\"],\n",
    "    \"Learn Curve\": [\"Q15\", \"Q16\"],\n",
    "    \"Clarity of Instructions\": [\"Q17\", \"Q18\"],\n",
    "    \"Response Time\": [\"Q19\", \"Q20\"],\n",
    "    \"Error Handling\": [\"Q21\", \"Q22\"],\n",
    "    \"Product Availability\": [\"Q23\", \"Q24\"],\n",
    "    \"Convenience\": [\"Q25\", \"Q26\"],\n",
    "    \"Cost-effectiveness\": [\"Q27\", \"Q28\"],\n",
    "    \"Information Accessibility\": [\"Q29\", \"Q30\"],\n",
    "    \"Personalization\": [\"Q31\", \"Q32\"],\n",
    "    \"Privacy Protection\": [\"Q33\", \"Q34\"],\n",
    "    \"Payment Security\": [\"Q35\", \"Q36\"],\n",
    "    \"Transparent Policies\": [\"Q37\", \"Q38\"],\n",
    "    \"Word of Mouth and Recommendations\": [\"Q39\", \"Q40\"],\n",
    "    \"Social Media Posts/ Influence\": [\"Q41\", \"Q42\"],\n",
    "    \"Online Reviews and Ratings\": [\"Q43\", \"Q44\"],\n",
    "    \"Social Proof\": [\"Q45\", \"Q46\"],\n",
    "    \"Normative Pressure\": [\"Q47\", \"Q48\"],\n",
    "    \"Information Sharing\": [\"Q49\", \"Q50\"],\n",
    "    \"Attitude\": [\"Q51\", \"Q52\"],\n",
    "    \"Perceived Risk\": [\"Q53\", \"Q54\"],\n",
    "}"
   ]
  },
  {
   "cell_type": "markdown",
   "id": "1e625702",
   "metadata": {},
   "source": [
    "Cronbatch’s alpha coefficient value"
   ]
  },
  {
   "cell_type": "code",
   "execution_count": 32,
   "id": "b1c681a1",
   "metadata": {},
   "outputs": [
    {
     "data": {
      "text/html": [
       "<div>\n",
       "<style scoped>\n",
       "    .dataframe tbody tr th:only-of-type {\n",
       "        vertical-align: middle;\n",
       "    }\n",
       "\n",
       "    .dataframe tbody tr th {\n",
       "        vertical-align: top;\n",
       "    }\n",
       "\n",
       "    .dataframe thead th {\n",
       "        text-align: right;\n",
       "    }\n",
       "</style>\n",
       "<table border=\"1\" class=\"dataframe\">\n",
       "  <thead>\n",
       "    <tr style=\"text-align: right;\">\n",
       "      <th></th>\n",
       "      <th>variable</th>\n",
       "      <th>c_alpha</th>\n",
       "    </tr>\n",
       "  </thead>\n",
       "  <tbody>\n",
       "    <tr>\n",
       "      <th>0</th>\n",
       "      <td>Perceived Ease of Use</td>\n",
       "      <td>0.8947</td>\n",
       "    </tr>\n",
       "    <tr>\n",
       "      <th>1</th>\n",
       "      <td>Perceived Usefulness</td>\n",
       "      <td>0.8974</td>\n",
       "    </tr>\n",
       "    <tr>\n",
       "      <th>2</th>\n",
       "      <td>Structural Assurance</td>\n",
       "      <td>0.8993</td>\n",
       "    </tr>\n",
       "    <tr>\n",
       "      <th>3</th>\n",
       "      <td>Social Influence (SI)</td>\n",
       "      <td>0.9084</td>\n",
       "    </tr>\n",
       "    <tr>\n",
       "      <th>4</th>\n",
       "      <td>Intention to Purchase Online</td>\n",
       "      <td>0.6249</td>\n",
       "    </tr>\n",
       "  </tbody>\n",
       "</table>\n",
       "</div>"
      ],
      "text/plain": [
       "                       variable  c_alpha\n",
       "0         Perceived Ease of Use   0.8947\n",
       "1          Perceived Usefulness   0.8974\n",
       "2          Structural Assurance   0.8993\n",
       "3         Social Influence (SI)   0.9084\n",
       "4  Intention to Purchase Online   0.6249"
      ]
     },
     "execution_count": 32,
     "metadata": {},
     "output_type": "execute_result"
    }
   ],
   "source": [
    "import pingouin as pg\n",
    "\n",
    "alpha_values = {}\n",
    "\n",
    "for index, val in enumerate(related_questions_lists):\n",
    "    temp = df.loc[:, related_questions_lists[val]]\n",
    "    alpha = pg.cronbach_alpha(data=temp)\n",
    "    alpha_values[val] = float(round(alpha[0], 4))\n",
    "\n",
    "ca_df = pd.DataFrame(pd.Series(alpha_values))\n",
    "ca_df.reset_index(inplace=True)\n",
    "ca_df.columns = ['variable', 'c_alpha']\n",
    "ca_df"
   ]
  },
  {
   "cell_type": "markdown",
   "id": "ef5ac34f",
   "metadata": {},
   "source": [
    "### Rule of Thumb for Cronbach's Alpha\n",
    "\n",
    "| Alpha (α) Value | Interpretation                                         |\n",
    "|------------------|-------------------------------------------------------|\n",
    "| ≥ 0.9            | Excellent (might be too high; may suggest redundancy) |\n",
    "| 0.8 – 0.9        | Good                                                  |\n",
    "| 0.7 – 0.8        | Acceptable                                            |\n",
    "| 0.6 – 0.7        | Questionable                                          |\n",
    "| 0.5 – 0.6        | Poor                                                  |\n",
    "| < 0.5            | Unacceptable                                          |\n"
   ]
  },
  {
   "cell_type": "code",
   "execution_count": 41,
   "id": "9280b3ce",
   "metadata": {},
   "outputs": [
    {
     "data": {
      "text/plain": [
       "<bound method Figure.tight_layout of <Figure size 1000x200 with 1 Axes>>"
      ]
     },
     "execution_count": 41,
     "metadata": {},
     "output_type": "execute_result"
    },
    {
     "data": {
      "image/png": "[encoded data removed]",
      "text/plain": [
       "<Figure size 1000x200 with 1 Axes>"
      ]
     },
     "metadata": {},
     "output_type": "display_data"
    }
   ],
   "source": [
    "fig = plt.figure(figsize=(10,2))\n",
    "sns.set_context(\"paper\", font_scale=0.9)\n",
    "sns.barplot(x='c_alpha', y='variable', data=ca_df)\n",
    "plt.axvline(x=0.7, color='green', linestyle='--', linewidth=1)\n",
    "plt.axvline(x=0.6, color='orange', linestyle='--', linewidth=1)\n",
    "plt.axvline(x=0.5, color='red', linestyle='--', linewidth=1)\n",
    "fig.tight_layout\n"
   ]
  },
  {
   "cell_type": "code",
   "execution_count": 43,
   "id": "76305f96",
   "metadata": {},
   "outputs": [],
   "source": [
    "def cronbach_alpha_if_item_deleted(variable):\n",
    "    questions = related_questions_lists[variable]\n",
    "    logs_df = pd.DataFrame({\"Deleted Question\": questions, \"c_alpha\": [0 for i in range(len(questions))]})\n",
    "\n",
    "    for i in range(0, len(questions)):\n",
    "        remaining_q = [x for x in questions if questions.index(x) != i]\n",
    "        temp = df.loc[:, remaining_q]\n",
    "        alpha = pg.cronbach_alpha(data=temp)\n",
    "        logs_df.iloc[i, 1] = float(round(alpha[0], 4))\n",
    "    \n",
    "    return logs_df"
   ]
  },
  {
   "cell_type": "code",
   "execution_count": 50,
   "id": "b1abe5bc",
   "metadata": {},
   "outputs": [
    {
     "data": {
      "text/plain": [
       "<matplotlib.lines.Line2D at 0x118a64430>"
      ]
     },
     "execution_count": 50,
     "metadata": {},
     "output_type": "execute_result"
    },
    {
     "data": {
      "image/png": "[encoded data removed]",
      "text/plain": [
       "<Figure size 1000x200 with 1 Axes>"
      ]
     },
     "metadata": {},
     "output_type": "display_data"
    }
   ],
   "source": [
    "plt.figure(figsize=(10,2))\n",
    "\n",
    "temp_ca = cronbach_alpha_if_item_deleted('Intention to Purchase Online')\n",
    "\n",
    "sns.barplot(x='c_alpha', y='Deleted Question', data=temp_ca)\n",
    "plt.axvline(x=0.7, color='green', linestyle='--', linewidth=1)\n",
    "plt.axvline(x=0.6, color='orange', linestyle='--', linewidth=1)\n",
    "plt.axvline(x=0.5, color='red', linestyle='--', linewidth=1)"
   ]
  },
  {
   "cell_type": "code",
   "execution_count": 51,
   "id": "163a14c2",
   "metadata": {},
   "outputs": [],
   "source": [
    "# revised questions\n",
    "\n",
    "related_questions_lists = {\n",
    "    \"Perceived Ease of Use\": [\"Q13\", \"Q14\", \"Q15\", \"Q16\", \"Q17\", \"Q18\", \"Q19\", \"Q20\", \"Q21\", \"Q22\"],\n",
    "    \"Perceived Usefulness\": [\"Q23\", \"Q24\", \"Q25\", \"Q26\", \"Q27\", \"Q28\", \"Q29\", \"Q30\", \"Q31\", \"Q32\"],\n",
    "    \"Structural Assurance\": [\"Q33\", \"Q34\", \"Q35\", \"Q36\", \"Q37\", \"Q38\"],\n",
    "    \"Social Influence (SI)\": [\"Q39\", \"Q40\", \"Q41\", \"Q42\", \"Q43\", \"Q44\", \"Q45\", \"Q46\", \"Q47\", \"Q48\", \"Q49\", \"Q50\"],\n",
    "    \"Intention to Purchase Online\": [\"Q57\", \"Q58\", \"Q59\"] # removed Q56\n",
    "}"
   ]
  },
  {
   "cell_type": "markdown",
   "id": "9ec157f8",
   "metadata": {},
   "source": [
    "Inter-item correlation"
   ]
  },
  {
   "cell_type": "code",
   "execution_count": null,
   "id": "a720996d",
   "metadata": {},
   "outputs": [],
   "source": [
    "# improved_constructs = {\n",
    "#     \"Cost_effectiveness\": [\"Q27\", \"Q28\", \"Q59\"],\n",
    "#     \"Information_Accessibility\": [\"Q29\", \"Q30\", \"Q43\"],\n",
    "#     \"Normative_Pressure\": [\"Q47\", \"Q48\", \"Q45\"],\n",
    "#     \"Attitude\": [\"Q51\", \"Q52\", \"Q58\"],\n",
    "#     \"Perceived_Risk\": [\"Q53\", \"Q54\", \"Q34\", \"Q35\"]\n",
    "# }"
   ]
  }
 ],
 "metadata": {
  "kernelspec": {
   "display_name": "myenv",
   "language": "python",
   "name": "python3"
  },
  "language_info": {
   "codemirror_mode": {
    "name": "ipython",
    "version": 3
   },
   "file_extension": ".py",
   "mimetype": "text/x-python",
   "name": "python",
   "nbconvert_exporter": "python",
   "pygments_lexer": "ipython3",
   "version": "3.10.16"
  }
 },
 "nbformat": 4,
 "nbformat_minor": 5
}
